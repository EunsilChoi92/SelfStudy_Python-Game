{
 "cells": [
  {
   "cell_type": "code",
   "execution_count": 2,
   "id": "cead0d49",
   "metadata": {},
   "outputs": [
    {
     "name": "stdout",
     "output_type": "stream",
     "text": [
      "pygame 2.1.2 (SDL 2.0.18, Python 3.9.7)\n",
      "Hello from the pygame community. https://www.pygame.org/contribute.html\n"
     ]
    }
   ],
   "source": [
    "import pygame"
   ]
  },
  {
   "cell_type": "code",
   "execution_count": 19,
   "id": "c3491c44",
   "metadata": {},
   "outputs": [],
   "source": [
    "# 1. 게임 초기화\n",
    "pygame.init()\n",
    "\n",
    "\n",
    "# 2. 게임창 옵션 설정\n",
    "size = [300, 600]\n",
    "screen = pygame.display.set_mode(size)\n",
    "\n",
    "title = \"My Game\"\n",
    "pygame.display.set_caption(title)\n",
    "\n",
    "\n",
    "# 3. 게임 내 필요한 설정\n",
    "clock = pygame.time.Clock()\n",
    "\n",
    "'''\n",
    "# 이미지 불러오기\n",
    "rocket_img = pygame.image.load(\"D:/temp/rocket.png\").convert_alpha() # png 파일은 convert 필요\n",
    "rocket_img = pygame.transform.scale(rocket_img, (90, 100))  # 이미지 크기 조절\n",
    "\n",
    "# 로켓 이미지 위치 정렬\n",
    "rocket_img_sx, rocket_img_sy = rocket_img.get_size()  # 로켓 이미지의 크기\n",
    "\n",
    "rocket_img_x = round(size[0]/2) - round(rocket_img_sx/2)# 창 크기의 반에서 로켓 이미지의 가로 크기의 반만큼 옆으로 가야 함\n",
    "rocket_img_y = size[1] - rocket_img_sy - 15  # 로켓 이미지의 세로 크기만큼 올라와줘야 함\n",
    "'''\n",
    "\n",
    "# 위 과정을 클래스로 만들어서 처리\n",
    "class obj:\n",
    "    def __init__(self):\n",
    "        self.x = 0\n",
    "        self.y = 0 \n",
    "    def put_img(self, address):\n",
    "        if address[-3:] == \"png\":\n",
    "            self.img = pygame.image.load(address).convert_alpha()\n",
    "        else:\n",
    "            self.img = pygame.image.load(address)\n",
    "        self.sx, self.sy = self.img.get_size()\n",
    "    def change_size(self, sx, sy):\n",
    "        self.img = pygame.transform.scale(self.img, (sx, sy))\n",
    "        self.sx, self.sy = self.img.get_size()\n",
    "    def show(self):\n",
    "        screen.blit(self.img, (self.x, self.y))\n",
    "\n",
    "rocket_img = obj()\n",
    "rocket_img.put_img(\"D:/temp/rocket.png\")\n",
    "rocket_img.change_size(90, 100)\n",
    "rocket_img.x = round(size[0]/2) - round(rocket_img.sx/2)\n",
    "rocket_img.y = size[1] - rocket_img.sy-15\n",
    "\n",
    "\n",
    "black = (0, 0, 0)\n",
    "white = (255, 255, 255)\n",
    "k = 0\n",
    "\n",
    "\n",
    "# 4. 메인 이벤트\n",
    "SB = 0\n",
    "while SB == 0:\n",
    "\n",
    "    # 4-1. FPS 설정\n",
    "    clock.tick(2)  # 1초에 60번 while문이 돎\n",
    "\n",
    "    # 4-2. 각종 입력 감지\n",
    "    for event in pygame.event.get():  # 어떤 이벤트를 받아서 하나씩 대조\n",
    "        if event.type == pygame.QUIT:\n",
    "            SB = 1\n",
    "\n",
    "    # 4-3. 입력, 시간에 따른 변화\n",
    "\n",
    "    \n",
    "    # 4-4. 그리기\n",
    "    screen.fill(black)   # 화면 색깔 까맣게 지정\n",
    "    # screen.blit(rocket_img, (rocket_img_x,rocket_img_y))  # 로켓 이미지 불러오기\n",
    "    rocket_img.show()\n",
    "    \n",
    "    # 4-5. 업데이트\n",
    "    pygame.display.flip()\n",
    "\n",
    "# 5. 종료\n",
    "pygame.quit()"
   ]
  }
 ],
 "metadata": {
  "kernelspec": {
   "display_name": "Python 3 (ipykernel)",
   "language": "python",
   "name": "python3"
  },
  "language_info": {
   "codemirror_mode": {
    "name": "ipython",
    "version": 3
   },
   "file_extension": ".py",
   "mimetype": "text/x-python",
   "name": "python",
   "nbconvert_exporter": "python",
   "pygments_lexer": "ipython3",
   "version": "3.9.7"
  }
 },
 "nbformat": 4,
 "nbformat_minor": 5
}
