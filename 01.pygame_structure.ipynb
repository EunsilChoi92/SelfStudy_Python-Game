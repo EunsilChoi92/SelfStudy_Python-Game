{
 "cells": [
  {
   "cell_type": "code",
   "execution_count": 2,
   "id": "2d5ad0c5",
   "metadata": {},
   "outputs": [
    {
     "name": "stdout",
     "output_type": "stream",
     "text": [
      "Collecting pygame\n",
      "  Downloading pygame-2.1.2-cp39-cp39-win_amd64.whl (8.4 MB)\n",
      "Installing collected packages: pygame\n",
      "Successfully installed pygame-2.1.2\n",
      "Note: you may need to restart the kernel to use updated packages.\n"
     ]
    }
   ],
   "source": [
    "pip install pygame"
   ]
  },
  {
   "cell_type": "code",
   "execution_count": 3,
   "id": "d0c83133",
   "metadata": {},
   "outputs": [
    {
     "name": "stdout",
     "output_type": "stream",
     "text": [
      "pygame 2.1.2 (SDL 2.0.18, Python 3.9.7)\n",
      "Hello from the pygame community. https://www.pygame.org/contribute.html\n"
     ]
    }
   ],
   "source": [
    "import pygame"
   ]
  },
  {
   "cell_type": "code",
   "execution_count": 10,
   "id": "d2e5b2ac",
   "metadata": {
    "scrolled": true
   },
   "outputs": [],
   "source": [
    "# 1. 게임 초기화\n",
    "pygame.init()\n",
    "\n",
    "\n",
    "# 2. 게임창 옵션 설정\n",
    "size = [400, 900]\n",
    "screen = pygame.display.set_mode(size)\n",
    "\n",
    "title = \"My Game\"\n",
    "pygame.display.set_caption(title)\n",
    "\n",
    "\n",
    "# 3. 게임 내 필요한 설정\n",
    "clock = pygame.time.Clock()\n",
    "black = (0, 0, 0)\n",
    "white = (255, 255, 255)\n",
    "k = 0\n",
    "\n",
    "\n",
    "# 4. 메인 이벤트\n",
    "SB = 0\n",
    "while SB == 0:\n",
    "\n",
    "    # 4-1. FPS 설정\n",
    "    clock.tick(2)  # 1초에 60번 while문이 돎\n",
    "\n",
    "    # 4-2. 각종 입력 감지\n",
    "    for event in pygame.event.get():  # 어떤 이벤트를 받아서 하나씩 대조\n",
    "        if event.type == pygame.QUIT:\n",
    "            SB = 1\n",
    "\n",
    "    # 4-3. 입력, 시간에 따른 변화\n",
    "    k += 1\n",
    "    if k % 2 == 0:\n",
    "        color = black\n",
    "    else:\n",
    "        color = white\n",
    "    \n",
    "    # 4-4. 그리기\n",
    "    screen.fill(color)   # 화면 색깔 까맣게 지정\n",
    "    \n",
    "    # 4-5. 업데이트\n",
    "    pygame.display.flip()\n",
    "\n",
    "# 5. 종료\n",
    "pygame.quit()"
   ]
  },
  {
   "cell_type": "code",
   "execution_count": null,
   "id": "5c458a3c",
   "metadata": {},
   "outputs": [],
   "source": []
  }
 ],
 "metadata": {
  "kernelspec": {
   "display_name": "Python 3 (ipykernel)",
   "language": "python",
   "name": "python3"
  },
  "language_info": {
   "codemirror_mode": {
    "name": "ipython",
    "version": 3
   },
   "file_extension": ".py",
   "mimetype": "text/x-python",
   "name": "python",
   "nbconvert_exporter": "python",
   "pygments_lexer": "ipython3",
   "version": "3.9.7"
  }
 },
 "nbformat": 4,
 "nbformat_minor": 5
}
